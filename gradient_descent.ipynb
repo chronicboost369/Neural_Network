{
 "cells": [
  {
   "cell_type": "markdown",
   "metadata": {},
   "source": [
    "Gradient Descent Algorithm\n",
    "\n",
    "Linear Regression\n",
    "\n",
    "In linear setting, the loss function that needs to be minimized is \n",
    "\n",
    "```{math}\n",
    "L = (f(x) -y)^2 \n",
    "\n",
    "L = (B_{0} + B_{1}x_{1} + ...+B_{p}x_{p}), where p = # of variables\n",
    "\n",
    "```"
   ]
  },
  {
   "cell_type": "code",
   "execution_count": null,
   "metadata": {},
   "outputs": [],
   "source": []
  }
 ],
 "metadata": {
  "kernelspec": {
   "display_name": ".venv",
   "language": "python",
   "name": "python3"
  },
  "language_info": {
   "name": "python",
   "version": "3.13.1"
  }
 },
 "nbformat": 4,
 "nbformat_minor": 2
}
